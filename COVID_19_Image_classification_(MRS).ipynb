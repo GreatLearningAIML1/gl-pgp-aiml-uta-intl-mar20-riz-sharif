{
  "nbformat": 4,
  "nbformat_minor": 0,
  "metadata": {
    "colab": {
      "name": "COVID-19 Image classification (MRS).ipynb",
      "provenance": [],
      "collapsed_sections": []
    },
    "kernelspec": {
      "name": "python3",
      "display_name": "Python 3"
    }
  },
  "cells": [
    {
      "cell_type": "markdown",
      "metadata": {
        "id": "htKLHWOVUO56",
        "colab_type": "text"
      },
      "source": [
        "## **COVID-19 Image classification**"
      ]
    },
    {
      "cell_type": "markdown",
      "metadata": {
        "id": "ioci_O32UaQ3",
        "colab_type": "text"
      },
      "source": [
        "You are provided with a training set and a test set of images of 3 classes. Each image has a filename that is its unique id. The dataset comprises 3 classes: 1) COVID-19, 2) Viral Pneumonia, and 3) Normal. The goal of the project is to create a classifier capable of determining the class of the X-ray image."
      ]
    },
    {
      "cell_type": "markdown",
      "metadata": {
        "id": "XwD0L8NmUpyL",
        "colab_type": "text"
      },
      "source": [
        "Dataset:\n",
        "You are provided with the following files:\n",
        "- testimage.npy\n",
        "- testLabels.csv\n",
        "- trainimage.npy\n",
        "- trainLabels.csv"
      ]
    },
    {
      "cell_type": "markdown",
      "metadata": {
        "id": "wt_Y8HjxU1lZ",
        "colab_type": "text"
      },
      "source": [
        "Context:\n",
        "- Can you differentiate an X-ray image of a normal person from an unhealthy one?\n",
        "- The ability to do so effectively can mean better diagnosis.\n"
      ]
    },
    {
      "cell_type": "markdown",
      "metadata": {
        "id": "_nqw4eaRU1tU",
        "colab_type": "text"
      },
      "source": [
        "Steps and tasks:\n",
        "Step 1. Import the libraries, load dataset, print shape of data, visualize the images in train and test set. "
      ]
    },
    {
      "cell_type": "code",
      "metadata": {
        "id": "41i_o1QFT1Bq",
        "colab_type": "code",
        "colab": {
          "base_uri": "https://localhost:8080/",
          "height": 34
        },
        "outputId": "169045d0-4d8e-4c2c-dbc3-08760d2a169b"
      },
      "source": [
        "from google.colab import drive\n",
        "drive.mount('/content/drive')"
      ],
      "execution_count": null,
      "outputs": [
        {
          "output_type": "stream",
          "text": [
            "Mounted at /content/drive\n"
          ],
          "name": "stdout"
        }
      ]
    },
    {
      "cell_type": "code",
      "metadata": {
        "id": "8rdkUBtuctuy",
        "colab_type": "code",
        "colab": {}
      },
      "source": [
        "# Import necessary libraries.\n",
        "import cv2\n",
        "from google.colab.patches import cv2_imshow"
      ],
      "execution_count": null,
      "outputs": []
    },
    {
      "cell_type": "code",
      "metadata": {
        "id": "2I6LIdZ_dBTZ",
        "colab_type": "code",
        "colab": {}
      },
      "source": [
        "# Import necessary libraries\n",
        "\n",
        "import numpy as np                               # Import numpy\n",
        "from skimage import data, io                     # Import skimage library (data - Test images and example data.\n",
        "                                                 #                          io - Reading, saving, and displaying images.) \n",
        "import matplotlib.pyplot as plt                  # Import matplotlib.pyplot (Plotting framework in Python.)\n",
        "\n",
        "import os                                        # This module provides a portable way of using operating system dependent functionality.\n",
        "os.environ['TF_CPP_MIN_LOG_LEVEL'] = '3' \n",
        "import warnings\n",
        "# Suppress warnings\n",
        "warnings.filterwarnings('ignore')"
      ],
      "execution_count": null,
      "outputs": []
    },
    {
      "cell_type": "code",
      "metadata": {
        "id": "rc-zxLKrdFn2",
        "colab_type": "code",
        "colab": {}
      },
      "source": [
        "import pandas as pd\n",
        "import math\n",
        "from tensorflow.keras import datasets, models, layers, optimizers\n",
        "from tensorflow.keras.preprocessing.image import ImageDataGenerator\n",
        "from tensorflow.keras.callbacks import ModelCheckpoint, EarlyStopping"
      ],
      "execution_count": null,
      "outputs": []
    },
    {
      "cell_type": "code",
      "metadata": {
        "id": "TkJHxZBt4Lxw",
        "colab_type": "code",
        "colab": {}
      },
      "source": [
        "from tensorflow.keras.models import Sequential\n",
        "from tensorflow.keras.layers import Conv2D, Dense, Flatten, MaxPooling2D\n",
        "from tensorflow.keras.utils import to_categorical"
      ],
      "execution_count": null,
      "outputs": []
    },
    {
      "cell_type": "code",
      "metadata": {
        "id": "Hy2NQyd_nNcp",
        "colab_type": "code",
        "colab": {}
      },
      "source": [
        "# Read the labels dataset\n",
        "X_train = np.load('/content/drive/My Drive/Colab Notebooks/trainimage.npy')\n",
        "X_test = np.load('/content/drive/My Drive/Colab Notebooks/testimage.npy') "
      ],
      "execution_count": null,
      "outputs": []
    },
    {
      "cell_type": "code",
      "metadata": {
        "id": "G4YNhWHomvZR",
        "colab_type": "code",
        "colab": {}
      },
      "source": [
        "# Read the labels for train data\n",
        "Y_train = pd.read_csv('/content/drive/My Drive/Colab Notebooks/trainLabels.csv')"
      ],
      "execution_count": null,
      "outputs": []
    },
    {
      "cell_type": "code",
      "metadata": {
        "id": "1fsYT92anCI6",
        "colab_type": "code",
        "colab": {}
      },
      "source": [
        "# Read the labels for test data\n",
        "Y_test = pd.read_csv('/content/drive/My Drive/Colab Notebooks/testLabels.csv')"
      ],
      "execution_count": null,
      "outputs": []
    },
    {
      "cell_type": "code",
      "metadata": {
        "id": "lNsi--Dk95El",
        "colab_type": "code",
        "colab": {
          "base_uri": "https://localhost:8080/",
          "height": 85
        },
        "outputId": "8552e989-bae6-42c1-86fa-4afe20432538"
      },
      "source": [
        "print(X_train.shape)\n",
        "print(X_test.shape)\n",
        "print(Y_train.shape)\n",
        "print(Y_test.shape)"
      ],
      "execution_count": null,
      "outputs": [
        {
          "output_type": "stream",
          "text": [
            "(251, 128, 128, 3)\n",
            "(66, 128, 128, 3)\n",
            "(251, 1)\n",
            "(66, 1)\n"
          ],
          "name": "stdout"
        }
      ]
    },
    {
      "cell_type": "markdown",
      "metadata": {
        "id": "BOFRgVmkU1x6",
        "colab_type": "text"
      },
      "source": [
        "Step 2. Explore the data:\n",
        "\n",
        "a. Print the value count of each type of label in:\n",
        "i. Training set\n",
        "ii. Testing set\n",
        "\n",
        "b. Find the number of unique labels in training set and print the names of those."
      ]
    },
    {
      "cell_type": "code",
      "metadata": {
        "id": "TYaL6LJYohMh",
        "colab_type": "code",
        "colab": {
          "base_uri": "https://localhost:8080/",
          "height": 119
        },
        "outputId": "4e70f6cc-5fd2-45aa-dbc7-26d4a543df75"
      },
      "source": [
        "print('\\nTraining Labels Values Count:')\n",
        "print(Y_train.Label.value_counts())"
      ],
      "execution_count": null,
      "outputs": [
        {
          "output_type": "stream",
          "text": [
            "\n",
            "Training Labels Values Count:\n",
            "Covid              111\n",
            "Viral Pneumonia     70\n",
            "Normal              70\n",
            "Name: Label, dtype: int64\n"
          ],
          "name": "stdout"
        }
      ]
    },
    {
      "cell_type": "code",
      "metadata": {
        "id": "tgYLpEjc-LXE",
        "colab_type": "code",
        "colab": {
          "base_uri": "https://localhost:8080/",
          "height": 119
        },
        "outputId": "c160b4da-b8ae-4330-bd49-5d519ae3f99f"
      },
      "source": [
        "print('\\nTest Labels Values Count:')\n",
        "print(Y_test.Label.value_counts())\n"
      ],
      "execution_count": null,
      "outputs": [
        {
          "output_type": "stream",
          "text": [
            "\n",
            "Test Labels Values Count:\n",
            "Covid              26\n",
            "Normal             20\n",
            "Viral Pneumonia    20\n",
            "Name: Label, dtype: int64\n"
          ],
          "name": "stdout"
        }
      ]
    },
    {
      "cell_type": "code",
      "metadata": {
        "id": "aB8J5jlxVarv",
        "colab_type": "code",
        "colab": {
          "base_uri": "https://localhost:8080/",
          "height": 34
        },
        "outputId": "43698165-2594-481d-e320-6ad4171cd110"
      },
      "source": [
        "Y_train.Label.unique()"
      ],
      "execution_count": null,
      "outputs": [
        {
          "output_type": "execute_result",
          "data": {
            "text/plain": [
              "array(['Viral Pneumonia', 'Covid', 'Normal'], dtype=object)"
            ]
          },
          "metadata": {
            "tags": []
          },
          "execution_count": 40
        }
      ]
    },
    {
      "cell_type": "code",
      "metadata": {
        "id": "nqAnElAuQqNe",
        "colab_type": "code",
        "colab": {}
      },
      "source": [
        "Y_test = Y_test.iloc[:,0:1].values\n",
        "\n",
        "Y_train = Y_train.iloc[:,0:1].values"
      ],
      "execution_count": null,
      "outputs": []
    },
    {
      "cell_type": "markdown",
      "metadata": {
        "id": "ETxsCuwWVf7z",
        "colab_type": "text"
      },
      "source": [
        "Step 3. Data Pre-processing:\n",
        "\n",
        "a. Gaussian Blurring. [Hint: Use kernel size of (5, 5)]\n",
        "\n",
        "b. Visualize data after performing the Gaussian blurring.\n"
      ]
    },
    {
      "cell_type": "code",
      "metadata": {
        "id": "CvK09L-dVlHd",
        "colab_type": "code",
        "colab": {
          "base_uri": "https://localhost:8080/",
          "height": 285
        },
        "outputId": "58bccdda-3546-4ef9-eb01-379a5445ca9d"
      },
      "source": [
        "idx = np.random.randint(0, X_train.shape[0])\n",
        "plt.imshow(X_train[idx])\n",
        "\n",
        "train_blurred = []\n",
        "for img in X_train:\n",
        "    train_blurred.append(cv2.GaussianBlur(img, (5,5), cv2.BORDER_DEFAULT))\n",
        "X_train = np.array(train_blurred)\n",
        "    \n",
        "test_blurred = []\n",
        "for img in X_test:\n",
        "    test_blurred.append(cv2.GaussianBlur(img, (5,5), cv2.BORDER_DEFAULT))\n",
        "print(idx)"
      ],
      "execution_count": null,
      "outputs": [
        {
          "output_type": "stream",
          "text": [
            "249\n"
          ],
          "name": "stdout"
        },
        {
          "output_type": "display_data",
          "data": {
            "image/png": "[encoded data removed]",
            "text/plain": [
              "<Figure size 432x288 with 1 Axes>"
            ]
          },
          "metadata": {
            "tags": [],
            "needs_background": "light"
          }
        }
      ]
    },
    {
      "cell_type": "code",
      "metadata": {
        "id": "izQ5lpwD1RsJ",
        "colab_type": "code",
        "colab": {
          "base_uri": "https://localhost:8080/",
          "height": 285
        },
        "outputId": "a4fbbdbd-b0c5-48bc-8020-01861df65aae"
      },
      "source": [
        "#visualizing data after gaussian blurring\n",
        "plt.imshow(X_train[idx])\n",
        "X_test = np.array(test_blurred)\n",
        "print(idx)"
      ],
      "execution_count": null,
      "outputs": [
        {
          "output_type": "stream",
          "text": [
            "249\n"
          ],
          "name": "stdout"
        },
        {
          "output_type": "display_data",
          "data": {
            "image/png": "[encoded data removed]",
            "text/plain": [
              "<Figure size 432x288 with 1 Axes>"
            ]
          },
          "metadata": {
            "tags": [],
            "needs_background": "light"
          }
        }
      ]
    },
    {
      "cell_type": "markdown",
      "metadata": {
        "id": "XWVTQqHkVqaH",
        "colab_type": "text"
      },
      "source": [
        "Step 4. Make data compatible:\n",
        "\n",
        "a. Reshape data into shapes compatible with Keras models.\n",
        "\n",
        "b. Convert labels to one hot vectors."
      ]
    },
    {
      "cell_type": "code",
      "metadata": {
        "id": "IRshE03UVukv",
        "colab_type": "code",
        "colab": {}
      },
      "source": [
        "# Step B - Encoding categorical data\n",
        "from sklearn.preprocessing import OneHotEncoder\n",
        "enc = OneHotEncoder()\n",
        "Y_train = enc.fit_transform(Y_train).toarray()\n",
        "Y_test = enc.transform(Y_test).toarray()\n",
        "\n",
        "# Step A\n",
        "train_datagen = ImageDataGenerator(rescale = 1./255, shear_range = 0.2, zoom_range = 0.2,\n",
        "                                   horizontal_flip = True)\n",
        "test_datagen = ImageDataGenerator(rescale = 1./255)\n",
        "\n",
        "train_data = train_datagen.flow(X_train, Y_train, batch_size=16)\n",
        "test_data = train_datagen.flow(X_test, Y_test, batch_size=8)"
      ],
      "execution_count": null,
      "outputs": []
    },
    {
      "cell_type": "code",
      "metadata": {
        "id": "69yemHe0ZeIk",
        "colab_type": "code",
        "colab": {
          "base_uri": "https://localhost:8080/",
          "height": 85
        },
        "outputId": "80301d8e-cdf3-4045-d612-a644e4c19905"
      },
      "source": [
        "print(X_train.shape)\n",
        "print(X_test.shape)\n",
        "print(Y_train.shape)\n",
        "print(Y_test.shape)"
      ],
      "execution_count": null,
      "outputs": [
        {
          "output_type": "stream",
          "text": [
            "(251, 128, 128, 3)\n",
            "(66, 128, 128, 3)\n",
            "(251, 3)\n",
            "(66, 3)\n"
          ],
          "name": "stdout"
        }
      ]
    },
    {
      "cell_type": "markdown",
      "metadata": {
        "id": "WFNnpgH_VvyF",
        "colab_type": "text"
      },
      "source": [
        "Step 5. Building CNN:\n",
        "\n",
        "a. Define layers.\n",
        "\n",
        "b. Set optimizer and loss function. (Use Adam optimizer and categorical crossentropy.)\n"
      ]
    },
    {
      "cell_type": "code",
      "metadata": {
        "id": "7UjOYYRKVy19",
        "colab_type": "code",
        "colab": {
          "base_uri": "https://localhost:8080/",
          "height": 391
        },
        "outputId": "7b2e04e1-17ea-4524-ca18-bd8e1f58ab9f"
      },
      "source": [
        "#Step A\n",
        "\n",
        "# Initialising the CNN\n",
        "classifier = Sequential()\n",
        "# Step 1 - Convolution\n",
        "classifier.add(Conv2D(32, (3, 3), input_shape = (128, 128, 3), activation = 'relu'))\n",
        "# Step 2 - Pooling\n",
        "classifier.add(MaxPooling2D(pool_size = (2, 2)))\n",
        "# Adding a second convolutional layer\n",
        "classifier.add(Conv2D(32, (3, 3), activation = 'relu'))\n",
        "classifier.add(MaxPooling2D(pool_size = (2, 2)))\n",
        "# Step 3 - Flattening\n",
        "classifier.add(Flatten())\n",
        "# Step 4 - Full connection\n",
        "classifier.add(Dense(units = 128, activation = 'relu'))\n",
        "classifier.add(Dense(units = 3, activation = 'softmax'))\n",
        "\n",
        "# Step B\n",
        "# Compiling the CNN\n",
        "classifier.compile(optimizer = 'adam', loss = 'categorical_crossentropy', metrics = ['accuracy'])\n",
        "classifier.summary()"
      ],
      "execution_count": null,
      "outputs": [
        {
          "output_type": "stream",
          "text": [
            "Model: \"sequential_1\"\n",
            "_________________________________________________________________\n",
            "Layer (type)                 Output Shape              Param #   \n",
            "=================================================================\n",
            "conv2d_2 (Conv2D)            (None, 126, 126, 32)      896       \n",
            "_________________________________________________________________\n",
            "max_pooling2d_2 (MaxPooling2 (None, 63, 63, 32)        0         \n",
            "_________________________________________________________________\n",
            "conv2d_3 (Conv2D)            (None, 61, 61, 32)        9248      \n",
            "_________________________________________________________________\n",
            "max_pooling2d_3 (MaxPooling2 (None, 30, 30, 32)        0         \n",
            "_________________________________________________________________\n",
            "flatten_1 (Flatten)          (None, 28800)             0         \n",
            "_________________________________________________________________\n",
            "dense_2 (Dense)              (None, 128)               3686528   \n",
            "_________________________________________________________________\n",
            "dense_3 (Dense)              (None, 3)                 387       \n",
            "=================================================================\n",
            "Total params: 3,697,059\n",
            "Trainable params: 3,697,059\n",
            "Non-trainable params: 0\n",
            "_________________________________________________________________\n"
          ],
          "name": "stdout"
        }
      ]
    },
    {
      "cell_type": "markdown",
      "metadata": {
        "id": "nrHbdYdiVzup",
        "colab_type": "text"
      },
      "source": [
        "Step 6. Fit and evaluate model and print confusion matrix."
      ]
    },
    {
      "cell_type": "code",
      "metadata": {
        "id": "mJAvL7w0V2mn",
        "colab_type": "code",
        "colab": {
          "base_uri": "https://localhost:8080/",
          "height": 717
        },
        "outputId": "4d7faddd-4c16-472f-f0bd-4ec987c8fc9f"
      },
      "source": [
        "#Fitting Model\n",
        "es = ModelCheckpoint('./classifier.h5', monitor='val_loss', save_best_only=True)\n",
        "\n",
        "history = classifier.fit_generator(train_data, steps_per_epoch=15, epochs=20, callbacks=[es],\n",
        "                         validation_data=test_data,  validation_steps=8)"
      ],
      "execution_count": null,
      "outputs": [
        {
          "output_type": "stream",
          "text": [
            "Epoch 1/20\n",
            "15/15 [==============================] - 4s 287ms/step - loss: 0.1833 - accuracy: 0.9447 - val_loss: 0.3265 - val_accuracy: 0.8906\n",
            "Epoch 2/20\n",
            "15/15 [==============================] - 4s 280ms/step - loss: 0.1685 - accuracy: 0.9404 - val_loss: 0.3726 - val_accuracy: 0.9062\n",
            "Epoch 3/20\n",
            "15/15 [==============================] - 4s 279ms/step - loss: 0.1736 - accuracy: 0.9277 - val_loss: 0.3596 - val_accuracy: 0.8750\n",
            "Epoch 4/20\n",
            "15/15 [==============================] - 4s 280ms/step - loss: 0.1787 - accuracy: 0.9191 - val_loss: 0.6209 - val_accuracy: 0.9062\n",
            "Epoch 5/20\n",
            "15/15 [==============================] - 4s 281ms/step - loss: 0.1619 - accuracy: 0.9319 - val_loss: 0.4024 - val_accuracy: 0.9219\n",
            "Epoch 6/20\n",
            "15/15 [==============================] - 4s 288ms/step - loss: 0.1725 - accuracy: 0.9404 - val_loss: 0.2130 - val_accuracy: 0.9062\n",
            "Epoch 7/20\n",
            "15/15 [==============================] - 4s 283ms/step - loss: 0.1281 - accuracy: 0.9532 - val_loss: 0.2499 - val_accuracy: 0.9219\n",
            "Epoch 8/20\n",
            "15/15 [==============================] - 4s 280ms/step - loss: 0.0955 - accuracy: 0.9702 - val_loss: 0.4776 - val_accuracy: 0.9219\n",
            "Epoch 9/20\n",
            "15/15 [==============================] - 4s 280ms/step - loss: 0.1140 - accuracy: 0.9617 - val_loss: 0.2894 - val_accuracy: 0.9375\n",
            "Epoch 10/20\n",
            "15/15 [==============================] - 4s 280ms/step - loss: 0.1416 - accuracy: 0.9532 - val_loss: 0.2350 - val_accuracy: 0.9062\n",
            "Epoch 11/20\n",
            "15/15 [==============================] - 4s 282ms/step - loss: 0.1311 - accuracy: 0.9489 - val_loss: 0.3262 - val_accuracy: 0.9062\n",
            "Epoch 12/20\n",
            "15/15 [==============================] - 4s 282ms/step - loss: 0.1125 - accuracy: 0.9574 - val_loss: 0.4641 - val_accuracy: 0.8906\n",
            "Epoch 13/20\n",
            "15/15 [==============================] - 4s 280ms/step - loss: 0.1218 - accuracy: 0.9489 - val_loss: 0.2929 - val_accuracy: 0.9219\n",
            "Epoch 14/20\n",
            "15/15 [==============================] - 4s 286ms/step - loss: 0.1657 - accuracy: 0.9333 - val_loss: 0.6909 - val_accuracy: 0.8594\n",
            "Epoch 15/20\n",
            "15/15 [==============================] - 4s 286ms/step - loss: 0.1710 - accuracy: 0.9362 - val_loss: 0.3511 - val_accuracy: 0.9219\n",
            "Epoch 16/20\n",
            "15/15 [==============================] - 4s 280ms/step - loss: 0.1081 - accuracy: 0.9532 - val_loss: 0.3659 - val_accuracy: 0.9219\n",
            "Epoch 17/20\n",
            "15/15 [==============================] - 4s 278ms/step - loss: 0.1156 - accuracy: 0.9532 - val_loss: 0.4816 - val_accuracy: 0.8438\n",
            "Epoch 18/20\n",
            "15/15 [==============================] - 4s 282ms/step - loss: 0.1437 - accuracy: 0.9489 - val_loss: 0.6787 - val_accuracy: 0.7969\n",
            "Epoch 19/20\n",
            "15/15 [==============================] - 4s 278ms/step - loss: 0.2374 - accuracy: 0.9064 - val_loss: 0.5141 - val_accuracy: 0.8750\n",
            "Epoch 20/20\n",
            "15/15 [==============================] - 4s 278ms/step - loss: 0.2312 - accuracy: 0.8894 - val_loss: 0.4530 - val_accuracy: 0.8750\n"
          ],
          "name": "stdout"
        }
      ]
    },
    {
      "cell_type": "code",
      "metadata": {
        "id": "fI0DZx7RLRsi",
        "colab_type": "code",
        "colab": {
          "base_uri": "https://localhost:8080/",
          "height": 102
        },
        "outputId": "adf3985a-398c-4f94-b6f6-60622ca43646"
      },
      "source": [
        "print('Evaluating Model')\n",
        "acc = classifier.evaluate_generator(test_data)\n",
        "print('Accuracy on test set: '+str(acc[1]))\n",
        "predictions = classifier.predict_generator(test_data)\n",
        "Y_pred = []\n",
        "Y_true = []\n",
        "for idx, pred in enumerate(predictions):\n",
        "    Y_pred.append(np.argmax(pred))\n",
        "    Y_true.append(np.argmax(Y_test[idx]))\n",
        "from sklearn.metrics import confusion_matrix\n",
        "cm_n = confusion_matrix(Y_true, Y_pred, normalize='true')\n",
        "print(cm_n)\n",
        "\n",
        "# Suppress warnings\n",
        "warnings.filterwarnings('ignore')"
      ],
      "execution_count": null,
      "outputs": [
        {
          "output_type": "stream",
          "text": [
            "Evaluating Model\n",
            "Accuracy on test set: 0.8939393758773804\n",
            "[[0.26923077 0.38461538 0.34615385]\n",
            " [0.5        0.25       0.25      ]\n",
            " [0.5        0.35       0.15      ]]\n"
          ],
          "name": "stdout"
        }
      ]
    },
    {
      "cell_type": "code",
      "metadata": {
        "id": "FklateELSeDf",
        "colab_type": "code",
        "colab": {
          "base_uri": "https://localhost:8080/",
          "height": 283
        },
        "outputId": "ba2667d1-9006-48ed-9b42-97c25cd782a8"
      },
      "source": [
        "plt.plot(history.history['accuracy'], label='accuracy')\n",
        "plt.plot(history.history['val_accuracy'], label = 'val_accuracy')\n",
        "plt.xlabel('Epoch')\n",
        "plt.ylabel('Accuracy')\n",
        "plt.ylim([0.5, 1])\n",
        "plt.legend(loc='lower right');"
      ],
      "execution_count": null,
      "outputs": [
        {
          "output_type": "display_data",
          "data": {
            "image/png": "[encoded data removed]",
            "text/plain": [
              "<Figure size 432x288 with 1 Axes>"
            ]
          },
          "metadata": {
            "tags": [],
            "needs_background": "light"
          }
        }
      ]
    },
    {
      "cell_type": "markdown",
      "metadata": {
        "id": "nK2-EQUNV3zp",
        "colab_type": "text"
      },
      "source": [
        "Step 7. Visualize predictions for x_test[2], x_test[3], x_test[33], x_test[36], x_test[59]."
      ]
    },
    {
      "cell_type": "code",
      "metadata": {
        "id": "5pQFNnJ0ThmG",
        "colab_type": "code",
        "colab": {}
      },
      "source": [
        "from tensorflow.keras.preprocessing import image"
      ],
      "execution_count": null,
      "outputs": []
    },
    {
      "cell_type": "code",
      "metadata": {
        "id": "Hfvc04weNeoC",
        "colab_type": "code",
        "colab": {
          "base_uri": "https://localhost:8080/",
          "height": 68
        },
        "outputId": "bb3c7699-5ec9-4beb-8dd1-526b4a1f72c3"
      },
      "source": [
        "real = []\n",
        "predicted = []\n",
        "for img_idx in [2, 3, 33, 36, 59]:\n",
        "    test_image = X_test[img_idx]\n",
        "    test_image = image.img_to_array(test_image)\n",
        "    test_image = np.expand_dims(test_image, axis = 0)\n",
        "    result = classifier.predict(test_image)\n",
        "    labels = list(enc.categories_[0])\n",
        "    real.append(labels[np.argmax(Y_test[img_idx])])\n",
        "    predicted.append(labels[np.argmax(result)])\n",
        "print([2, 3, 33, 36, 59])\n",
        "print(real)\n",
        "print(predicted)"
      ],
      "execution_count": null,
      "outputs": [
        {
          "output_type": "stream",
          "text": [
            "[2, 3, 33, 36, 59]\n",
            "['Viral Pneumonia', 'Viral Pneumonia', 'Covid', 'Covid', 'Normal']\n",
            "['Viral Pneumonia', 'Normal', 'Covid', 'Covid', 'Normal']\n"
          ],
          "name": "stdout"
        }
      ]
    }
  ]
}